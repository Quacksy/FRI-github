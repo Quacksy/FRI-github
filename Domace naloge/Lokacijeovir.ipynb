{
 "cells": [
  {
   "cell_type": "markdown",
   "metadata": {},
   "source": [
    "Ogrevalna naloga\n",
    "\n",
    "Napiši program, ki se začne z opisom ovire v eni vrstici, na primer"
   ]
  },
  {
   "cell_type": "code",
   "execution_count": 89,
   "metadata": {},
   "outputs": [
    {
     "name": "stdout",
     "output_type": "stream",
     "text": [
      "['......' '..##..' '.##.#.' '...###' '###.##']\n"
     ]
    }
   ],
   "source": [
    "import numpy as np\n",
    "\n",
    "zemljevid = [\n",
    "    \"......\",\n",
    "    \"..##..\",\n",
    "    \".##.#.\",\n",
    "    \"...###\",\n",
    "    \"###.##\",\n",
    "]\n",
    "zemljevid = np.array(zemljevid)\n",
    "print(zemljevid)"
   ]
  },
  {
   "cell_type": "markdown",
   "metadata": {},
   "source": [
    "Resevanje z numpy."
   ]
  },
  {
   "cell_type": "code",
   "execution_count": 90,
   "metadata": {},
   "outputs": [
    {
     "name": "stdout",
     "output_type": "stream",
     "text": [
      "[[0 0 0 0 0 0 0 0]\n",
      " [0 0 0 1 1 0 0 0]\n",
      " [0 0 1 1 0 1 0 0]\n",
      " [0 0 0 0 1 1 1 0]\n",
      " [0 1 1 1 0 1 1 0]]\n",
      "(array([1, 1, 2, 2, 2, 3, 3, 3, 4, 4, 4, 4, 4], dtype=int64), array([3, 4, 2, 3, 5, 4, 5, 6, 1, 2, 3, 5, 6], dtype=int64))\n"
     ]
    }
   ],
   "source": [
    "zemljevid = np.array([[0] + [int(c == \"#\")\n",
    "                      for c in vrstica] + [0] for vrstica in zemljevid])\n",
    "print(zemljevid)\n",
    "lokacije = np.nonzero(zemljevid)\n",
    "\n",
    "print(lokacije)\n"
   ]
  }
 ],
 "metadata": {
  "kernelspec": {
   "display_name": "Python 3.9.13 ('base')",
   "language": "python",
   "name": "python3"
  },
  "language_info": {
   "codemirror_mode": {
    "name": "ipython",
    "version": 3
   },
   "file_extension": ".py",
   "mimetype": "text/x-python",
   "name": "python",
   "nbconvert_exporter": "python",
   "pygments_lexer": "ipython3",
   "version": "3.9.13"
  },
  "orig_nbformat": 4,
  "vscode": {
   "interpreter": {
    "hash": "a04f5d07b0747026a8fbcdf50b9443318e69b1b8bd6247d88bfadb4789282972"
   }
  }
 },
 "nbformat": 4,
 "nbformat_minor": 2
}
