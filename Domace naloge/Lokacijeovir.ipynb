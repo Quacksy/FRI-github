{
 "cells": [
  {
   "cell_type": "markdown",
   "metadata": {},
   "source": [
    "Ogrevalna naloga\n",
    "\n",
    "Napiši program, ki se začne z opisom ovire v eni vrstici, na primer"
   ]
  },
  {
   "cell_type": "code",
   "execution_count": 17,
   "metadata": {},
   "outputs": [
    {
     "name": "stdout",
     "output_type": "stream",
     "text": [
      "[1]\n"
     ]
    }
   ],
   "source": [
    "ovire = \".##..####...##\"\n",
    "lokacije = []\n",
    "\n",
    "for i in enumerate(ovire):\n",
    "    if '#' in i:\n",
    "        lokacije.append(i[0])\n",
    "\n",
    "stevec = 0\n",
    "preverjanje = 0\n",
    "popravljeno = []\n",
    "\n",
    "\n",
    "print(popravljeno)"
   ]
  }
 ],
 "metadata": {
  "kernelspec": {
   "display_name": "Python 3.9.13 ('base')",
   "language": "python",
   "name": "python3"
  },
  "language_info": {
   "codemirror_mode": {
    "name": "ipython",
    "version": 3
   },
   "file_extension": ".py",
   "mimetype": "text/x-python",
   "name": "python",
   "nbconvert_exporter": "python",
   "pygments_lexer": "ipython3",
   "version": "3.9.13"
  },
  "orig_nbformat": 4,
  "vscode": {
   "interpreter": {
    "hash": "a04f5d07b0747026a8fbcdf50b9443318e69b1b8bd6247d88bfadb4789282972"
   }
  }
 },
 "nbformat": 4,
 "nbformat_minor": 2
}
