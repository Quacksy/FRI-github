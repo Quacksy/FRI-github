{
 "cells": [
  {
   "cell_type": "markdown",
   "source": [
    "# Domaca naloga Funkcionalne ovire"
   ],
   "metadata": {
    "collapsed": false
   }
  },
  {
   "cell_type": "markdown",
   "source": [
    "Importamo numpy ce bomom z njim, kaj delali."
   ],
   "metadata": {
    "collapsed": false
   }
  },
  {
   "cell_type": "code",
   "execution_count": 5,
   "outputs": [],
   "source": [
    "import numpy as np\n",
    "ovire1 = [(1, 3, 6), (2, 4, 3), (4, 6, 7),\n",
    "          (3, 4, 9), (6, 9, 5), (9, 10, 2), (9, 10, 8)]\n",
    "\n",
    "zemljevid = [\n",
    "    \"......\",\n",
    "    \"..##..\",\n",
    "    \".##.#.\",\n",
    "    \"...###\",\n",
    "    \"###.##\",\n",
    "]"
   ],
   "metadata": {
    "collapsed": false
   }
  },
  {
   "cell_type": "markdown",
   "source": [
    "##### Funkcija prejme ovire v obliki seznama trojk (x0, x1, y) in vrne število ovir"
   ],
   "metadata": {
    "collapsed": false
   }
  },
  {
   "cell_type": "code",
   "execution_count": 6,
   "outputs": [
    {
     "data": {
      "text/plain": "7"
     },
     "execution_count": 6,
     "metadata": {},
     "output_type": "execute_result"
    }
   ],
   "source": [
    "def stevilo_ovir(ovire):\n",
    "    return len(ovire)\n",
    "\n",
    "stevilo_ovir(ovire1)"
   ],
   "metadata": {
    "collapsed": false
   }
  },
  {
   "cell_type": "markdown",
   "source": [
    "##### Funkcija vrne skupno dolžino vseh ovir"
   ],
   "metadata": {
    "collapsed": false
   }
  },
  {
   "cell_type": "code",
   "execution_count": 7,
   "outputs": [
    {
     "data": {
      "text/plain": "46"
     },
     "execution_count": 7,
     "metadata": {},
     "output_type": "execute_result"
    }
   ],
   "source": [
    "def dolzina_ovir(ovire):\n",
    "    skupna_dolzina = 0\n",
    "    for x, x1, _ in ovire:\n",
    "        skupna_dolzina = skupna_dolzina + x1\n",
    "    return skupna_dolzina\n",
    "\n",
    "dolzina_ovir(ovire1)"
   ],
   "metadata": {
    "collapsed": false
   }
  },
  {
   "cell_type": "markdown",
   "source": [
    "##### Funkcija vrne širino kolesarke steze, se pravi najbolj desno koordinato v seznamu ovir."
   ],
   "metadata": {
    "collapsed": false
   }
  },
  {
   "cell_type": "code",
   "execution_count": 8,
   "outputs": [
    {
     "data": {
      "text/plain": "10"
     },
     "execution_count": 8,
     "metadata": {},
     "output_type": "execute_result"
    }
   ],
   "source": [
    "def sirina(ovire):\n",
    "    sirina = 0\n",
    "\n",
    "    for _, x1, _ in ovire:\n",
    "        if sirina < x1:\n",
    "            sirina = x1\n",
    "    return sirina\n",
    "sirina(ovire1)"
   ],
   "metadata": {
    "collapsed": false
   }
  },
  {
   "cell_type": "markdown",
   "source": [
    "##### Funkcija prejme vrstico v obliki niza, sestavljenega iz znakov # in . ter vrne seznam parov (x0, x1) (ogrevalni del domače naloge prejšnjega tedna)"
   ],
   "metadata": {
    "collapsed": false
   }
  },
  {
   "cell_type": "code",
   "execution_count": 9,
   "outputs": [],
   "source": [
    "#def pretvori_vrstico(vrstica):"
   ],
   "metadata": {
    "collapsed": false
   }
  },
  {
   "cell_type": "markdown",
   "source": [
    "#####  Funkcija prejme seznam, kakršnega vrača prejšnja funkcija in neko število y. Vrniti mora seznam, v katerem je vsakemu paru dodan y. Klic dodaj_vrstico([(3, 4), (6, 8), (11, 11)], 3) vrne [(3, 4, 3), (6, 8, 3), (11, 11, 3)]."
   ],
   "metadata": {
    "collapsed": false
   }
  },
  {
   "cell_type": "code",
   "execution_count": null,
   "outputs": [],
   "source": [
    "def "
   ],
   "metadata": {
    "collapsed": false
   }
  }
 ],
 "metadata": {
  "kernelspec": {
   "display_name": "Python 3",
   "language": "python",
   "name": "python3"
  },
  "language_info": {
   "codemirror_mode": {
    "name": "ipython",
    "version": 2
   },
   "file_extension": ".py",
   "mimetype": "text/x-python",
   "name": "python",
   "nbconvert_exporter": "python",
   "pygments_lexer": "ipython2",
   "version": "2.7.6"
  }
 },
 "nbformat": 4,
 "nbformat_minor": 0
}
