{
 "cells": [
  {
   "cell_type": "markdown",
   "source": [
    "# Domaca naloga Funkcionalne ovire"
   ],
   "metadata": {
    "collapsed": false
   }
  },
  {
   "cell_type": "markdown",
   "source": [
    "Importamo numpy ce bomom z njim, kaj delali."
   ],
   "metadata": {
    "collapsed": false
   }
  },
  {
   "cell_type": "code",
   "execution_count": 52,
   "outputs": [],
   "source": [
    "import numpy as np\n",
    "ovire1 = [(1, 3, 6), (2, 4, 3), (4, 6, 7),\n",
    "          (3, 4, 9), (6, 9, 5), (9, 10, 2), (9, 10, 8)]\n",
    "\n",
    "zemljevid = [\n",
    "    \"......\",\n",
    "    \"..##..\",\n",
    "    \".##.#.\",\n",
    "    \"...###\",\n",
    "    \"###.##\",\n",
    "]\n",
    "\n",
    "\n",
    "ovirevrstica = '##..##'"
   ],
   "metadata": {
    "collapsed": false
   }
  },
  {
   "cell_type": "markdown",
   "source": [
    "##### 1. Funkcija prejme ovire v obliki seznama trojk (x0, x1, y) in vrne število ovir"
   ],
   "metadata": {
    "collapsed": false
   }
  },
  {
   "cell_type": "code",
   "execution_count": 53,
   "outputs": [
    {
     "data": {
      "text/plain": "7"
     },
     "execution_count": 53,
     "metadata": {},
     "output_type": "execute_result"
    }
   ],
   "source": [
    "def stevilo_ovir(ovire):\n",
    "    return len(ovire)\n",
    "\n",
    "stevilo_ovir(ovire1)"
   ],
   "metadata": {
    "collapsed": false
   }
  },
  {
   "cell_type": "markdown",
   "source": [
    "##### 2. Funkcija vrne skupno dolžino vseh ovir"
   ],
   "metadata": {
    "collapsed": false
   }
  },
  {
   "cell_type": "code",
   "execution_count": 54,
   "outputs": [
    {
     "data": {
      "text/plain": "46"
     },
     "execution_count": 54,
     "metadata": {},
     "output_type": "execute_result"
    }
   ],
   "source": [
    "def dolzina_ovir(ovire):\n",
    "    skupna_dolzina = 0\n",
    "    for x, x1, _ in ovire:\n",
    "        skupna_dolzina = skupna_dolzina + x1\n",
    "    return skupna_dolzina\n",
    "\n",
    "dolzina_ovir(ovire1)"
   ],
   "metadata": {
    "collapsed": false
   }
  },
  {
   "cell_type": "markdown",
   "source": [
    "##### 3. Funkcija vrne širino kolesarke steze, se pravi najbolj desno koordinato v seznamu ovir."
   ],
   "metadata": {
    "collapsed": false
   }
  },
  {
   "cell_type": "code",
   "execution_count": 55,
   "outputs": [
    {
     "data": {
      "text/plain": "10"
     },
     "execution_count": 55,
     "metadata": {},
     "output_type": "execute_result"
    }
   ],
   "source": [
    "def sirina(ovire):\n",
    "    sirina = 0\n",
    "\n",
    "    for _, x1, _ in ovire:\n",
    "        if sirina < x1:\n",
    "            sirina = x1\n",
    "    return sirina\n",
    "sirina(ovire1)"
   ],
   "metadata": {
    "collapsed": false
   }
  },
  {
   "cell_type": "markdown",
   "source": [
    "##### 4. Funkcija prejme vrstico v obliki niza, sestavljenega iz znakov # in . ter vrne seznam parov (x0, x1) (ogrevalni del domače naloge prejšnjega tedna)"
   ],
   "metadata": {
    "collapsed": false
   }
  },
  {
   "cell_type": "code",
   "execution_count": 56,
   "outputs": [
    {
     "data": {
      "text/plain": "[(1, 2), (5, 6)]"
     },
     "execution_count": 56,
     "metadata": {},
     "output_type": "execute_result"
    }
   ],
   "source": [
    "def pretvori_vrstico(ovire):\n",
    "\n",
    "    bloki = []\n",
    "    ovire = '.' + ovire + '.'\n",
    "\n",
    "    for i in range(len(ovire)):\n",
    "        if ovire[i] == \"#\":\n",
    "            if ovire[i -1] == \".\":\n",
    "                zac = i\n",
    "            if i + 1 < len(ovire) and ovire[i + 1] == \".\":\n",
    "                bloki.append((zac, i))\n",
    "    return bloki\n",
    "\n",
    "pretvori_vrstico(ovirevrstica)"
   ],
   "metadata": {
    "collapsed": false
   }
  },
  {
   "cell_type": "markdown",
   "source": [
    "#####  5. Funkcija prejme seznam, kakršnega vrača prejšnja funkcija in neko število y. Vrniti mora seznam, v katerem je vsakemu paru dodan y. Klic dodaj_vrstico([(3, 4), (6, 8), (11, 11)], 3) vrne [(3, 4, 3), (6, 8, 3), (11, 11, 3)]."
   ],
   "metadata": {
    "collapsed": false
   }
  },
  {
   "cell_type": "code",
   "execution_count": 61,
   "outputs": [],
   "source": [
    "def dodaj_vrstico(bloki, y):\n",
    "    ...\n",
    "\n",
    "dodaj_vrstico(pretvori_vrstico(ovirevrstica), 2)"
   ],
   "metadata": {
    "collapsed": false
   }
  },
  {
   "cell_type": "markdown",
   "source": [
    "###### 6. Funkcija  dobi zemljevid v obliki seznama nizov in vrne seznam ovir (obvezna domača naloga prejšnjega tedna). Funkcija mora uporabiti prejšnji dve funkciji - testi bodo to preverili tako, da bodo začasno zamenjali tvojo funkcijo z neko drugo, ki vrača napačne številke in preverili, ali so številke res \"pravilno napačne\"."
   ],
   "metadata": {
    "collapsed": false
   }
  },
  {
   "cell_type": "code",
   "execution_count": null,
   "outputs": [],
   "source": [],
   "metadata": {
    "collapsed": false,
    "pycharm": {
     "is_executing": true
    }
   }
  },
  {
   "cell_type": "markdown",
   "source": [
    "###### 7. Funkcija prejme seznam ovir (v obliki trojk) in vrne vrstico, v kateri bi kolesar, ki se vozi po stolpcu x, naletel na oviro (naloga izpred dveh tednov). Če v stolpcu ni ovir, naj vrne None."
   ],
   "metadata": {
    "collapsed": false
   }
  },
  {
   "cell_type": "code",
   "execution_count": 63,
   "outputs": [
    {
     "data": {
      "text/plain": "5"
     },
     "execution_count": 63,
     "metadata": {},
     "output_type": "execute_result"
    }
   ],
   "source": [
    "def globina(ovire, x):\n",
    "    ymin = None\n",
    "    for x0, x1, yn in ovire:\n",
    "        if x0 <= x <= x1 and (ymin == None or yn < ymin):\n",
    "            ymin = yn\n",
    "    return ymin\n",
    "\n",
    "ovire = [(1, 3, 6), (2, 4, 3),\n",
    "         (3, 4, 9), (6, 9, 5), (9, 10, 2), (9, 10, 8),\n",
    "         (4, 6, 7),\n",
    "         ]\n",
    "globina(ovire, 6)"
   ],
   "metadata": {
    "collapsed": false
   }
  }
 ],
 "metadata": {
  "kernelspec": {
   "display_name": "Python 3",
   "language": "python",
   "name": "python3"
  },
  "language_info": {
   "codemirror_mode": {
    "name": "ipython",
    "version": 2
   },
   "file_extension": ".py",
   "mimetype": "text/x-python",
   "name": "python",
   "nbconvert_exporter": "python",
   "pygments_lexer": "ipython2",
   "version": "2.7.6"
  }
 },
 "nbformat": 4,
 "nbformat_minor": 0
}
