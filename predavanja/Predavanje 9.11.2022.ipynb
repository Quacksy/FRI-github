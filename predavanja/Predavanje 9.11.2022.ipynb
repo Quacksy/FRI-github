{
 "cells": [
  {
   "cell_type": "markdown",
   "source": [
    "# Predavanje 9/11/2022"
   ],
   "metadata": {
    "collapsed": false
   }
  },
  {
   "cell_type": "markdown",
   "source": [
    "## Domaca naloga\n",
    "Warmup deu:"
   ],
   "metadata": {
    "collapsed": false
   }
  },
  {
   "cell_type": "code",
   "execution_count": 42,
   "outputs": [
    {
     "name": "stdout",
     "output_type": "stream",
     "text": [
      "[(1, 2), (5, 6)]\n"
     ]
    }
   ],
   "source": [
    "ovire = '##..##'\n",
    "bloki = []\n",
    "\n",
    "ovire = '.' + ovire + '.'\n",
    "\n",
    "for i in range(len(ovire)):\n",
    "    if ovire[i] == \"#\":\n",
    "        if ovire[i -1] == \".\":\n",
    "            zac = i\n",
    "        if i + 1 < len(ovire) and ovire[i + 1] == \".\":\n",
    "            bloki.append((zac, i))\n",
    "print(bloki)"
   ],
   "metadata": {
    "collapsed": false
   }
  },
  {
   "cell_type": "markdown",
   "source": [
    "## Funkcije:"
   ],
   "metadata": {
    "collapsed": false
   }
  },
  {
   "cell_type": "markdown",
   "source": [
    "Funkcija preveri ali je oseba gay."
   ],
   "metadata": {
    "collapsed": false
   }
  },
  {
   "cell_type": "code",
   "execution_count": 47,
   "outputs": [
    {
     "name": "stdout",
     "output_type": "stream",
     "text": [
      "Gay si Rene\n",
      "Nisi gay Banan\n"
     ]
    }
   ],
   "source": [
    "def alisigay(ime):\n",
    "    return 'Gay si ' + ime if ime.lower() == 'rene' else 'Nisi gay ' + ime\n",
    "\n",
    "\n",
    "a“ = alisigay('Rene')\n",
    "b = alisigay('Banan')\n",
    "\n",
    "print(a)\n",
    "print(b)"
   ],
   "metadata": {
    "collapsed": false
   }
  },
  {
   "cell_type": "code",
   "execution_count": 48,
   "outputs": [
    {
     "name": "stdout",
     "output_type": "stream",
     "text": [
      "6\n"
     ]
    }
   ],
   "source": [
    "def seznam(s):\n",
    "    v = 0\n",
    "    for x in s:\n",
    "        v += x\n",
    "    return v\n",
    "print(seznam([1, 2, 3]))\n"
   ],
   "metadata": {
    "collapsed": false
   }
  }
 ],
 "metadata": {
  "kernelspec": {
   "display_name": "Python 3",
   "language": "python",
   "name": "python3"
  },
  "language_info": {
   "codemirror_mode": {
    "name": "ipython",
    "version": 2
   },
   "file_extension": ".py",
   "mimetype": "text/x-python",
   "name": "python",
   "nbconvert_exporter": "python",
   "pygments_lexer": "ipython2",
   "version": "2.7.6"
  }
 },
 "nbformat": 4,
 "nbformat_minor": 0
}
