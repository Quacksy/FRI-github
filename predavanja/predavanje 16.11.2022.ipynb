{
 "cells": [
  {
   "cell_type": "markdown",
   "source": [
    "# Predavanje 16.11.2022"
   ],
   "metadata": {
    "collapsed": false
   }
  },
  {
   "cell_type": "markdown",
   "source": [
    "1. Pregled domače naloge."
   ],
   "metadata": {
    "collapsed": false
   }
  },
  {
   "cell_type": "code",
   "execution_count": 1,
   "outputs": [],
   "source": [
    "def naj_stolpec(ovire):\n",
    "    sirinapoti = sirina(ovire)\n",
    "    naj_y = naj_x = 0\n",
    "\n",
    "    for x in range(1, sirinapoti + 1):\n",
    "        ymin = None\n",
    "\n",
    "        for x0, x1, yn in ovire:\n",
    "            if x0 <= x <= x1 and (ymin is None or yn < ymin):\n",
    "                ymin = yn\n",
    "\n",
    "        if ymin is None or ymin > naj_y:\n",
    "            naj_y = ymin\n",
    "            naj_x = x\n",
    "\n",
    "            if ymin is None:\n",
    "                break\n",
    "\n",
    "    return naj_x, naj_y"
   ],
   "metadata": {
    "collapsed": false
   }
  },
  {
   "cell_type": "markdown",
   "source": [
    "Popravek zgornjega programa:"
   ],
   "metadata": {
    "collapsed": false
   }
  },
  {
   "cell_type": "code",
   "execution_count": null,
   "outputs": [],
   "source": [],
   "metadata": {
    "collapsed": false
   }
  }
 ],
 "metadata": {
  "kernelspec": {
   "display_name": "Python 3",
   "language": "python",
   "name": "python3"
  },
  "language_info": {
   "codemirror_mode": {
    "name": "ipython",
    "version": 2
   },
   "file_extension": ".py",
   "mimetype": "text/x-python",
   "name": "python",
   "nbconvert_exporter": "python",
   "pygments_lexer": "ipython2",
   "version": "2.7.6"
  }
 },
 "nbformat": 4,
 "nbformat_minor": 0
}
