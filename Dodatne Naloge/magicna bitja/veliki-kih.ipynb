{
 "cells": [
  {
   "cell_type": "markdown",
   "metadata": {},
   "source": [
    "## Veliki kih\n",
    "\n",
    "Neka visokomogočna in precej velika bitja, so zbrala 65536 zvezd najrazličnejših svetlosti. Razporedila so jih na dvodimenzionalno mrežo velikosti 256x256. Če so stvaritev pogledala od daleč, je bila videti kot črno-bela slika. (No, v resnici črno-oranžno-rumeno-bela, saj gre za zvezde). Zvezde so torej predstavljale piksle neke oranženkaste slike.\n",
    "\n",
    "Slika je bila imenitna in znana in imela celo ime. Rekli so ji ... bogvekako, tudi ime se je izgubilo.\n",
    "\n",
    "Dolga leta je bila razstavljena. Potem je eden od ogledovalcev kihnil. Močno kihnil.\n",
    "\n",
    "Zvezde so se razletele vsaka na svojo stran. Ene počasneje, ene hitreje; ene levo, ene desno, ene gor, ene dol; večina, pač, nekam postrani.\n",
    "\n",
    "Okrog zvezd so se sčasoma naredili planeti. Na planetih je zrasel najprej en sam plevel, kasneje pa tudi solata in žirafe. In neka manj mogočna in manj velika bitja, ki pa so sčasoma odkrila teleskope in spektre in tako naprej. V datoteko [meritve.txt](meritve.txt) so zbrala podatke o meritvah. Vsaka vrstica datoteke predstavlja eno zvedo: prvi stolpec pove njeno svetlost, drugi in tretji njeni koordinati, četrti in peti pa njeno hitrost v smeri x in smeri y (torej: za koliko se spremenijo koordinate zvezde v enem stoletju). Ker so ona, prva bitja, bila in tudi ostala zelo diskretna, so vsa števila cela.\n",
    "\n",
    "Kako je bilo ime sliki?\n",
    "\n",
    "Namig: za začetek bo treba ugotoviti, kaj je bilo na njej ... pred velikim kihom.\n",
    "\n",
    "### Tehnična pomoč\n",
    "\n",
    "Izziva se lahko seveda lotiš v poljubnem jeziku. Ker se na predavanjih pogovarjamo o numpyju in Pythonu, pa je tule pomoč za numpy in Python.\n",
    "\n",
    "Podatke najlažje preberemo z"
   ]
  },
  {
   "cell_type": "code",
   "execution_count": 3,
   "metadata": {},
   "outputs": [
    {
     "data": {
      "text/plain": "array([[    129,  -61647,  -36969,      -5,      -3],\n       [     74,   24912, -111090,       2,      -9],\n       [    147,  -98733,   98855,      -8,       8],\n       ...,\n       [     78,   74129,  -36870,       6,      -3],\n       [     58,   12523,  -49280,       1,      -4],\n       [    145,   49468,  -61501,       4,      -5]], dtype=int64)"
     },
     "execution_count": 3,
     "metadata": {},
     "output_type": "execute_result"
    }
   ],
   "source": [
    "import numpy as np\n",
    "\n",
    "np.loadtxt(\"meritve.txt\", dtype=np.int64)"
   ]
  },
  {
   "cell_type": "markdown",
   "metadata": {},
   "source": [
    "Kako to premetavati naprej, odkrij sam(a).\n",
    "\n",
    "Če želim v jupytru pokazati sliko dimenzij (30, 50), ki ima neko bolj temno zvezdo na (5, 7) in neko svetlejšo na (25, 33), nam je storiti tole:"
   ]
  },
  {
   "cell_type": "code",
   "execution_count": 4,
   "metadata": {},
   "outputs": [
    {
     "ename": "ModuleNotFoundError",
     "evalue": "No module named 'matplotlib'",
     "output_type": "error",
     "traceback": [
      "\u001B[1;31m---------------------------------------------------------------------------\u001B[0m",
      "\u001B[1;31mModuleNotFoundError\u001B[0m                       Traceback (most recent call last)",
      "Input \u001B[1;32mIn [4]\u001B[0m, in \u001B[0;36m<cell line: 1>\u001B[1;34m()\u001B[0m\n\u001B[1;32m----> 1\u001B[0m \u001B[43mget_ipython\u001B[49m\u001B[43m(\u001B[49m\u001B[43m)\u001B[49m\u001B[38;5;241;43m.\u001B[39;49m\u001B[43mrun_line_magic\u001B[49m\u001B[43m(\u001B[49m\u001B[38;5;124;43m'\u001B[39;49m\u001B[38;5;124;43mmatplotlib\u001B[39;49m\u001B[38;5;124;43m'\u001B[39;49m\u001B[43m,\u001B[49m\u001B[43m \u001B[49m\u001B[38;5;124;43m'\u001B[39;49m\u001B[38;5;124;43minline\u001B[39;49m\u001B[38;5;124;43m'\u001B[39;49m\u001B[43m)\u001B[49m\n\u001B[0;32m      4\u001B[0m \u001B[38;5;28;01mimport\u001B[39;00m \u001B[38;5;21;01mnumpy\u001B[39;00m \u001B[38;5;28;01mas\u001B[39;00m \u001B[38;5;21;01mnp\u001B[39;00m\n\u001B[0;32m      5\u001B[0m \u001B[38;5;28;01mimport\u001B[39;00m \u001B[38;5;21;01mmatplotlib\u001B[39;00m\u001B[38;5;21;01m.\u001B[39;00m\u001B[38;5;21;01mpyplot\u001B[39;00m \u001B[38;5;28;01mas\u001B[39;00m \u001B[38;5;21;01mplt\u001B[39;00m\n",
      "File \u001B[1;32mD:\\conda\\envs\\FRI-github\\lib\\site-packages\\IPython\\core\\interactiveshell.py:2305\u001B[0m, in \u001B[0;36mInteractiveShell.run_line_magic\u001B[1;34m(self, magic_name, line, _stack_depth)\u001B[0m\n\u001B[0;32m   2303\u001B[0m     kwargs[\u001B[38;5;124m'\u001B[39m\u001B[38;5;124mlocal_ns\u001B[39m\u001B[38;5;124m'\u001B[39m] \u001B[38;5;241m=\u001B[39m \u001B[38;5;28mself\u001B[39m\u001B[38;5;241m.\u001B[39mget_local_scope(stack_depth)\n\u001B[0;32m   2304\u001B[0m \u001B[38;5;28;01mwith\u001B[39;00m \u001B[38;5;28mself\u001B[39m\u001B[38;5;241m.\u001B[39mbuiltin_trap:\n\u001B[1;32m-> 2305\u001B[0m     result \u001B[38;5;241m=\u001B[39m fn(\u001B[38;5;241m*\u001B[39margs, \u001B[38;5;241m*\u001B[39m\u001B[38;5;241m*\u001B[39mkwargs)\n\u001B[0;32m   2306\u001B[0m \u001B[38;5;28;01mreturn\u001B[39;00m result\n",
      "File \u001B[1;32mD:\\conda\\envs\\FRI-github\\lib\\site-packages\\IPython\\core\\magics\\pylab.py:99\u001B[0m, in \u001B[0;36mPylabMagics.matplotlib\u001B[1;34m(self, line)\u001B[0m\n\u001B[0;32m     97\u001B[0m     \u001B[38;5;28mprint\u001B[39m(\u001B[38;5;124m\"\u001B[39m\u001B[38;5;124mAvailable matplotlib backends: \u001B[39m\u001B[38;5;132;01m%s\u001B[39;00m\u001B[38;5;124m\"\u001B[39m \u001B[38;5;241m%\u001B[39m backends_list)\n\u001B[0;32m     98\u001B[0m \u001B[38;5;28;01melse\u001B[39;00m:\n\u001B[1;32m---> 99\u001B[0m     gui, backend \u001B[38;5;241m=\u001B[39m \u001B[38;5;28;43mself\u001B[39;49m\u001B[38;5;241;43m.\u001B[39;49m\u001B[43mshell\u001B[49m\u001B[38;5;241;43m.\u001B[39;49m\u001B[43menable_matplotlib\u001B[49m\u001B[43m(\u001B[49m\u001B[43margs\u001B[49m\u001B[38;5;241;43m.\u001B[39;49m\u001B[43mgui\u001B[49m\u001B[38;5;241;43m.\u001B[39;49m\u001B[43mlower\u001B[49m\u001B[43m(\u001B[49m\u001B[43m)\u001B[49m\u001B[43m \u001B[49m\u001B[38;5;28;43;01mif\u001B[39;49;00m\u001B[43m \u001B[49m\u001B[38;5;28;43misinstance\u001B[39;49m\u001B[43m(\u001B[49m\u001B[43margs\u001B[49m\u001B[38;5;241;43m.\u001B[39;49m\u001B[43mgui\u001B[49m\u001B[43m,\u001B[49m\u001B[43m \u001B[49m\u001B[38;5;28;43mstr\u001B[39;49m\u001B[43m)\u001B[49m\u001B[43m \u001B[49m\u001B[38;5;28;43;01melse\u001B[39;49;00m\u001B[43m \u001B[49m\u001B[43margs\u001B[49m\u001B[38;5;241;43m.\u001B[39;49m\u001B[43mgui\u001B[49m\u001B[43m)\u001B[49m\n\u001B[0;32m    100\u001B[0m     \u001B[38;5;28mself\u001B[39m\u001B[38;5;241m.\u001B[39m_show_matplotlib_backend(args\u001B[38;5;241m.\u001B[39mgui, backend)\n",
      "File \u001B[1;32mD:\\conda\\envs\\FRI-github\\lib\\site-packages\\IPython\\core\\interactiveshell.py:3478\u001B[0m, in \u001B[0;36mInteractiveShell.enable_matplotlib\u001B[1;34m(self, gui)\u001B[0m\n\u001B[0;32m   3457\u001B[0m \u001B[38;5;28;01mdef\u001B[39;00m \u001B[38;5;21menable_matplotlib\u001B[39m(\u001B[38;5;28mself\u001B[39m, gui\u001B[38;5;241m=\u001B[39m\u001B[38;5;28;01mNone\u001B[39;00m):\n\u001B[0;32m   3458\u001B[0m     \u001B[38;5;124;03m\"\"\"Enable interactive matplotlib and inline figure support.\u001B[39;00m\n\u001B[0;32m   3459\u001B[0m \n\u001B[0;32m   3460\u001B[0m \u001B[38;5;124;03m    This takes the following steps:\u001B[39;00m\n\u001B[1;32m   (...)\u001B[0m\n\u001B[0;32m   3476\u001B[0m \u001B[38;5;124;03m        display figures inline.\u001B[39;00m\n\u001B[0;32m   3477\u001B[0m \u001B[38;5;124;03m    \"\"\"\u001B[39;00m\n\u001B[1;32m-> 3478\u001B[0m     \u001B[38;5;28;01mfrom\u001B[39;00m \u001B[38;5;21;01mmatplotlib_inline\u001B[39;00m\u001B[38;5;21;01m.\u001B[39;00m\u001B[38;5;21;01mbackend_inline\u001B[39;00m \u001B[38;5;28;01mimport\u001B[39;00m configure_inline_support\n\u001B[0;32m   3480\u001B[0m     \u001B[38;5;28;01mfrom\u001B[39;00m \u001B[38;5;21;01mIPython\u001B[39;00m\u001B[38;5;21;01m.\u001B[39;00m\u001B[38;5;21;01mcore\u001B[39;00m \u001B[38;5;28;01mimport\u001B[39;00m pylabtools \u001B[38;5;28;01mas\u001B[39;00m pt\n\u001B[0;32m   3481\u001B[0m     gui, backend \u001B[38;5;241m=\u001B[39m pt\u001B[38;5;241m.\u001B[39mfind_gui_and_backend(gui, \u001B[38;5;28mself\u001B[39m\u001B[38;5;241m.\u001B[39mpylab_gui_select)\n",
      "File \u001B[1;32mD:\\conda\\envs\\FRI-github\\lib\\site-packages\\matplotlib_inline\\__init__.py:1\u001B[0m, in \u001B[0;36m<module>\u001B[1;34m\u001B[0m\n\u001B[1;32m----> 1\u001B[0m \u001B[38;5;28;01mfrom\u001B[39;00m \u001B[38;5;21;01m.\u001B[39;00m \u001B[38;5;28;01mimport\u001B[39;00m backend_inline, config  \u001B[38;5;66;03m# noqa\u001B[39;00m\n\u001B[0;32m      2\u001B[0m __version__ \u001B[38;5;241m=\u001B[39m \u001B[38;5;124m\"\u001B[39m\u001B[38;5;124m0.1.6\u001B[39m\u001B[38;5;124m\"\u001B[39m\n",
      "File \u001B[1;32mD:\\conda\\envs\\FRI-github\\lib\\site-packages\\matplotlib_inline\\backend_inline.py:6\u001B[0m, in \u001B[0;36m<module>\u001B[1;34m\u001B[0m\n\u001B[0;32m      1\u001B[0m \u001B[38;5;124;03m\"\"\"A matplotlib backend for publishing figures via display_data\"\"\"\u001B[39;00m\n\u001B[0;32m      3\u001B[0m \u001B[38;5;66;03m# Copyright (c) IPython Development Team.\u001B[39;00m\n\u001B[0;32m      4\u001B[0m \u001B[38;5;66;03m# Distributed under the terms of the BSD 3-Clause License.\u001B[39;00m\n\u001B[1;32m----> 6\u001B[0m \u001B[38;5;28;01mimport\u001B[39;00m \u001B[38;5;21;01mmatplotlib\u001B[39;00m\n\u001B[0;32m      7\u001B[0m \u001B[38;5;28;01mfrom\u001B[39;00m \u001B[38;5;21;01mmatplotlib\u001B[39;00m \u001B[38;5;28;01mimport\u001B[39;00m colors\n\u001B[0;32m      8\u001B[0m \u001B[38;5;28;01mfrom\u001B[39;00m \u001B[38;5;21;01mmatplotlib\u001B[39;00m\u001B[38;5;21;01m.\u001B[39;00m\u001B[38;5;21;01mbackends\u001B[39;00m \u001B[38;5;28;01mimport\u001B[39;00m backend_agg\n",
      "\u001B[1;31mModuleNotFoundError\u001B[0m: No module named 'matplotlib'"
     ]
    }
   ],
   "source": [
    "%matplotlib inline\n",
    "\n",
    "\n",
    "import numpy as np\n",
    "import matplotlib.pyplot as plt\n",
    "\n",
    "slika = np.zeros((30, 50), dtype=np.uint8)\n",
    "slika[5, 7] = 64\n",
    "slika[25, 33] = 128\n",
    "\n",
    "plt.imshow(slika, cmap=\"afmhot\")"
   ]
  },
  {
   "cell_type": "markdown",
   "metadata": {},
   "source": [
    "Z `dtype=np.uint8` v klicu `np.zeros` povemo, da matrika vsebuje cela števila (osembitne nepredznačene `int`-e). V tem primeru `plt.imshow` pričakuje vrednosti med 0 in 255, kar ravno ustreza svetlostim zvezd. (Kakšno naključje.)\n",
    "\n",
    "Argument `cmap=\"afmhot\"` v klicu `plt.imshow` določi barvno paleto. Če bi napisali `cmap=\"gray\"`, bi bila slika črno-bela. Ker gre za sliko iz zvezd, bo ustrezna paleta `\"afmhot\"`.\n",
    "\n",
    "Namig: ni težko, samo simulacijo je potrebno pognati nazaj. Zadnja dva stolpca povesta, za koliko se drugi in tretji stolpci spremenita v vsakem stoletju. Odkriti morate, za koliko stoletij **nazaj** je potrebno iti, da se bodo vse številke v drugem stolpcu razlikovale za največ"
   ]
  },
  {
   "cell_type": "markdown",
   "metadata": {},
   "source": [
    "Zacetek naloge:"
   ]
  },
  {
   "cell_type": "code",
   "execution_count": null,
   "metadata": {},
   "outputs": [],
   "source": [
    "import numpy as np\n",
    "import matplotlib.pyplot as plt\n",
    "\n",
    "\n",
    "lokacije = np.loadtxt(\"meritve.txt\", dtype=np.int64)\n",
    "\n",
    "slika = np.zeros((256, 256), dtype=np.uint8)\n",
    "\n",
    "tabela = plt.imshow(slika, cmap=\"afmhot\")\n",
    "print(tabela)\n"
   ]
  },
  {
   "cell_type": "code",
   "execution_count": null,
   "metadata": {},
   "outputs": [],
   "source": [
    "print(lokacije)"
   ]
  },
  {
   "cell_type": "code",
   "execution_count": null,
   "metadata": {},
   "outputs": [],
   "source": [
    "stoletja = 0\n",
    "razlika = 0\n",
    "vrednostixou = 0 \n",
    "#Dobimo vrednost \n",
    "for svetlost, x, y, hitrost_x, hitrost_y in lokacije:\n",
    "    vrednostixou = x + vrednostixou\n",
    "print(vrednostixou)\n",
    "\n",
    "for svetlost, x, y, hitrost_x, hitrost_y in lokacije:\n",
    "    print(svetlost)\n"
   ]
  }
 ],
 "metadata": {
  "kernelspec": {
   "display_name": "Python 3.9.13 ('base')",
   "language": "python",
   "name": "python3"
  },
  "language_info": {
   "codemirror_mode": {
    "name": "ipython",
    "version": 3
   },
   "file_extension": ".py",
   "mimetype": "text/x-python",
   "name": "python",
   "nbconvert_exporter": "python",
   "pygments_lexer": "ipython3",
   "version": "3.9.13"
  },
  "vscode": {
   "interpreter": {
    "hash": "a04f5d07b0747026a8fbcdf50b9443318e69b1b8bd6247d88bfadb4789282972"
   }
  }
 },
 "nbformat": 4,
 "nbformat_minor": 4
}
