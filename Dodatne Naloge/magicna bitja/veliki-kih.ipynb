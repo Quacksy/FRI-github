{
 "cells": [
  {
   "cell_type": "markdown",
   "metadata": {},
   "source": [
    "## Veliki kih\n",
    "\n",
    "Neka visokomogočna in precej velika bitja, so zbrala 65536 zvezd najrazličnejših svetlosti. Razporedila so jih na dvodimenzionalno mrežo velikosti 256x256. Če so stvaritev pogledala od daleč, je bila videti kot črno-bela slika. (No, v resnici črno-oranžno-rumeno-bela, saj gre za zvezde). Zvezde so torej predstavljale piksle neke oranženkaste slike.\n",
    "\n",
    "Slika je bila imenitna in znana in imela celo ime. Rekli so ji ... bogvekako, tudi ime se je izgubilo.\n",
    "\n",
    "Dolga leta je bila razstavljena. Potem je eden od ogledovalcev kihnil. Močno kihnil.\n",
    "\n",
    "Zvezde so se razletele vsaka na svojo stran. Ene počasneje, ene hitreje; ene levo, ene desno, ene gor, ene dol; večina, pač, nekam postrani.\n",
    "\n",
    "Okrog zvezd so se sčasoma naredili planeti. Na planetih je zrasel najprej en sam plevel, kasneje pa tudi solata in žirafe. In neka manj mogočna in manj velika bitja, ki pa so sčasoma odkrila teleskope in spektre in tako naprej. V datoteko [meritve.txt](meritve.txt) so zbrala podatke o meritvah. Vsaka vrstica datoteke predstavlja eno zvedo: prvi stolpec pove njeno svetlost, drugi in tretji njeni koordinati, četrti in peti pa njeno hitrost v smeri x in smeri y (torej: za koliko se spremenijo koordinate zvezde v enem stoletju). Ker so ona, prva bitja, bila in tudi ostala zelo diskretna, so vsa števila cela.\n",
    "\n",
    "Kako je bilo ime sliki?\n",
    "\n",
    "Namig: za začetek bo treba ugotoviti, kaj je bilo na njej ... pred velikim kihom.\n",
    "\n",
    "### Tehnična pomoč\n",
    "\n",
    "Izziva se lahko seveda lotiš v poljubnem jeziku. Ker se na predavanjih pogovarjamo o numpyju in Pythonu, pa je tule pomoč za numpy in Python.\n",
    "\n",
    "Podatke najlažje preberemo z"
   ]
  },
  {
   "cell_type": "code",
   "execution_count": 1,
   "metadata": {},
   "outputs": [
    {
     "data": {
      "text/plain": [
       "array([[    129,  -61647,  -36969,      -5,      -3],\n",
       "       [     74,   24912, -111090,       2,      -9],\n",
       "       [    147,  -98733,   98855,      -8,       8],\n",
       "       ...,\n",
       "       [     78,   74129,  -36870,       6,      -3],\n",
       "       [     58,   12523,  -49280,       1,      -4],\n",
       "       [    145,   49468,  -61501,       4,      -5]], dtype=int64)"
      ]
     },
     "execution_count": 1,
     "metadata": {},
     "output_type": "execute_result"
    }
   ],
   "source": [
    "import numpy as np\n",
    "\n",
    "np.loadtxt(\"meritve.txt\", dtype=np.int64)"
   ]
  },
  {
   "cell_type": "markdown",
   "metadata": {},
   "source": [
    "Kako to premetavati naprej, odkrij sam(a).\n",
    "\n",
    "Če želim v jupytru pokazati sliko dimenzij (30, 50), ki ima neko bolj temno zvezdo na (5, 7) in neko svetlejšo na (25, 33), nam je storiti tole:"
   ]
  },
  {
   "cell_type": "code",
   "execution_count": 2,
   "metadata": {},
   "outputs": [
    {
     "data": {
      "text/plain": [
       "<matplotlib.image.AxesImage at 0x1e56f69eac0>"
      ]
     },
     "execution_count": 2,
     "metadata": {},
     "output_type": "execute_result"
    },
    {
     "data": {
      "image/png": "[encoded data removed]",
      "text/plain": [
       "<Figure size 640x480 with 1 Axes>"
      ]
     },
     "metadata": {},
     "output_type": "display_data"
    }
   ],
   "source": [
    "%matplotlib inline\n",
    "\n",
    "\n",
    "import numpy as np\n",
    "import matplotlib.pyplot as plt\n",
    "\n",
    "slika = np.zeros((30, 50), dtype=np.uint8)\n",
    "slika[5, 7] = 64\n",
    "slika[25, 33] = 128\n",
    "\n",
    "plt.imshow(slika, cmap=\"afmhot\")"
   ]
  },
  {
   "cell_type": "markdown",
   "metadata": {},
   "source": [
    "Z `dtype=np.uint8` v klicu `np.zeros` povemo, da matrika vsebuje cela števila (osembitne nepredznačene `int`-e). V tem primeru `plt.imshow` pričakuje vrednosti med 0 in 255, kar ravno ustreza svetlostim zvezd. (Kakšno naključje.)\n",
    "\n",
    "Argument `cmap=\"afmhot\"` v klicu `plt.imshow` določi barvno paleto. Če bi napisali `cmap=\"gray\"`, bi bila slika črno-bela. Ker gre za sliko iz zvezd, bo ustrezna paleta `\"afmhot\"`.\n",
    "\n",
    "Namig: ni težko, samo simulacijo je potrebno pognati nazaj. Zadnja dva stolpca povesta, za koliko se drugi in tretji stolpci spremenita v vsakem stoletju. Odkriti morate, za koliko stoletij **nazaj** je potrebno iti, da se bodo vse številke v drugem stolpcu razlikovale za največ"
   ]
  },
  {
   "cell_type": "markdown",
   "metadata": {},
   "source": [
    "Zacetek naloge:"
   ]
  },
  {
   "cell_type": "code",
   "execution_count": 14,
   "metadata": {},
   "outputs": [
    {
     "name": "stdout",
     "output_type": "stream",
     "text": [
      "AxesImage(80,52.8;496x369.6)\n"
     ]
    },
    {
     "data": {
      "image/png": "[encoded data removed]",
      "text/plain": [
       "<Figure size 640x480 with 1 Axes>"
      ]
     },
     "metadata": {},
     "output_type": "display_data"
    }
   ],
   "source": [
    "import numpy as np\n",
    "import matplotlib.pyplot as plt\n",
    "\n",
    "\n",
    "lokacije = np.loadtxt(\"meritve.txt\", dtype=np.int64)\n",
    "\n",
    "slika = np.zeros((256, 256), dtype=np.uint8)\n",
    "\n",
    "tabela = plt.imshow(slika, cmap=\"afmhot\")\n",
    "print(tabela)\n"
   ]
  },
  {
   "cell_type": "code",
   "execution_count": 5,
   "metadata": {},
   "outputs": [
    {
     "name": "stdout",
     "output_type": "stream",
     "text": [
      "[[    129  -61647  -36969      -5      -3]\n",
      " [     74   24912 -111090       2      -9]\n",
      " [    147  -98733   98855      -8       8]\n",
      " ...\n",
      " [     78   74129  -36870       6      -3]\n",
      " [     58   12523  -49280       1      -4]\n",
      " [    145   49468  -61501       4      -5]]\n"
     ]
    }
   ],
   "source": [
    "print(lokacije)"
   ]
  },
  {
   "cell_type": "code",
   "execution_count": 15,
   "metadata": {},
   "outputs": [
    {
     "name": "stdout",
     "output_type": "stream",
     "text": [
      "-401683335\n"
     ]
    }
   ],
   "source": [
    "stoletja = 0\n",
    "razlika = 0\n",
    "vrednostixou = 0 \n",
    "#Dobimo vrednost \n",
    "for svetlost, x, y, hitrost_x, hitrost_y in lokacije:\n",
    "    vrednostixou = x + vrednostixou\n",
    "print(vrednostixou)\n",
    "\n",
    "for svetlost, x, y, hitrost_x, hitrost_y in lokacije:"
   ]
  }
 ],
 "metadata": {
  "kernelspec": {
   "display_name": "Python 3.9.13 ('base')",
   "language": "python",
   "name": "python3"
  },
  "language_info": {
   "codemirror_mode": {
    "name": "ipython",
    "version": 3
   },
   "file_extension": ".py",
   "mimetype": "text/x-python",
   "name": "python",
   "nbconvert_exporter": "python",
   "pygments_lexer": "ipython3",
   "version": "3.9.13"
  },
  "vscode": {
   "interpreter": {
    "hash": "a04f5d07b0747026a8fbcdf50b9443318e69b1b8bd6247d88bfadb4789282972"
   }
  }
 },
 "nbformat": 4,
 "nbformat_minor": 4
}
